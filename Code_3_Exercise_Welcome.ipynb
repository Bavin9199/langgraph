{
 "cells": [
  {
   "cell_type": "code",
   "execution_count": 2,
   "id": "cc7109c5",
   "metadata": {},
   "outputs": [],
   "source": [
    "from typing import Dict, TypedDict, List\n",
    "from langgraph.graph import StateGraph"
   ]
  },
  {
   "cell_type": "code",
   "execution_count": 15,
   "id": "d062bbf9",
   "metadata": {},
   "outputs": [],
   "source": [
    "class AgentState(TypedDict):\n",
    "    name : str\n",
    "    age : str\n",
    "    skills : list[str]\n",
    "    final : str"
   ]
  },
  {
   "cell_type": "code",
   "execution_count": 20,
   "id": "182010d2",
   "metadata": {},
   "outputs": [],
   "source": [
    "def first_connect(state:AgentState) -> AgentState:\n",
    "    state[\"final\"] = f\"{state[\"name\"]}, welcome to the system!\"\n",
    "\n",
    "    return state"
   ]
  },
  {
   "cell_type": "code",
   "execution_count": 21,
   "id": "eba1f345",
   "metadata": {},
   "outputs": [],
   "source": [
    "def second_connect(state:AgentState) -> AgentState:\n",
    "    state[\"final\"] = state[\"final\"] + f\"You are {state[\"age\"]} years old!\"\n",
    "\n",
    "    return state"
   ]
  },
  {
   "cell_type": "code",
   "execution_count": 22,
   "id": "f4178e7f",
   "metadata": {},
   "outputs": [],
   "source": [
    "def third_connect(state:AgentState) -> AgentState:\n",
    "    state[\"final\"] = state[\"final\"] + f\"You have skills in: {state[\"skills\"]}\"\n",
    "\n",
    "    return state"
   ]
  },
  {
   "cell_type": "code",
   "execution_count": 23,
   "id": "4d3289e2",
   "metadata": {},
   "outputs": [],
   "source": [
    "graph = StateGraph(AgentState)\n",
    "\n",
    "graph.add_node(\"first_node\",first_connect)\n",
    "graph.add_node(\"second_node\",second_connect)\n",
    "graph.add_node(\"third_node\",third_connect)\n",
    "\n",
    "graph.set_entry_point(\"first_node\")\n",
    "graph.add_edge(\"first_node\",\"second_node\")\n",
    "graph.add_edge(\"second_node\",\"third_node\")\n",
    "graph.set_finish_point(\"third_node\")\n",
    "\n",
    "app = graph.compile()\n",
    "\n",
    "result = app.invoke({\"name\":\"Linda\",\"age\": 19,\"skills\":[\"Python\",\"Machine Learning\",\"LangGraph\"]})"
   ]
  },
  {
   "cell_type": "code",
   "execution_count": 25,
   "id": "05521368",
   "metadata": {},
   "outputs": [
    {
     "data": {
      "text/plain": [
       "\"Linda, welcome to the system!You are 19 years old!You have skills in: ['Python', 'Machine Learning', 'LangGraph']\""
      ]
     },
     "execution_count": 25,
     "metadata": {},
     "output_type": "execute_result"
    }
   ],
   "source": [
    "result[\"final\"]"
   ]
  }
 ],
 "metadata": {
  "kernelspec": {
   "display_name": "Python (.venv-langgraph)",
   "language": "python",
   "name": "langgraph-env"
  },
  "language_info": {
   "codemirror_mode": {
    "name": "ipython",
    "version": 3
   },
   "file_extension": ".py",
   "mimetype": "text/x-python",
   "name": "python",
   "nbconvert_exporter": "python",
   "pygments_lexer": "ipython3",
   "version": "3.13.6"
  }
 },
 "nbformat": 4,
 "nbformat_minor": 5
}
