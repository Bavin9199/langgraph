{
 "cells": [
  {
   "cell_type": "code",
   "execution_count": 4,
   "id": "2b050122",
   "metadata": {},
   "outputs": [],
   "source": [
    "from typing import Dict, TypedDict, List\n",
    "from langgraph.graph import StateGraph, START, END"
   ]
  },
  {
   "cell_type": "code",
   "execution_count": 5,
   "id": "7450e1ff",
   "metadata": {},
   "outputs": [],
   "source": [
    "class AgentState(TypedDict):\n",
    "    number1 : int\n",
    "    number2 : int\n",
    "    operation : int\n",
    "    number3 : int\n",
    "    number4 : int\n",
    "    operation2 : int \n",
    "    finalNumber : int\n",
    "    finalNumber2 : int\n",
    "    "
   ]
  },
  {
   "cell_type": "code",
   "execution_count": 6,
   "id": "3aa494ca",
   "metadata": {},
   "outputs": [],
   "source": [
    "def adder(state:AgentState) -> AgentState:\n",
    "    state[\"finalNumber\"] = state[\"number1\"] + state[\"number2\"]\n",
    "    return state\n",
    "\n",
    "def subtractor(state:AgentState) -> AgentState:\n",
    "    state[\"finalNumber\"] = state[\"number1\"] - state[\"number2\"]\n",
    "    return state\n",
    "\n",
    "def adder2(state:AgentState) -> AgentState:\n",
    "    state[\"finalNumber2\"] = state[\"number3\"] + state[\"number4\"]\n",
    "    return state\n",
    "\n",
    "def subtractor2(state:AgentState) -> AgentState:\n",
    "    state[\"finalNumber2\"] = state[\"number3\"] - state[\"number4\"]\n",
    "    return state\n",
    "\n",
    "def decide_next(state:AgentState) -> AgentState:\n",
    "    if state[\"operation\"] == \"+\":\n",
    "        return \"addition_operation\"\n",
    "    elif state[\"operation\"] == \"-\":\n",
    "        return \"subtraction_operation\"\n",
    "\n",
    "def decide_next2(state:AgentState) -> AgentState:\n",
    "    if state[\"operation2\"] == \"+\":\n",
    "        return \"addition_operation2\"\n",
    "    elif state[\"operation2\"] == \"-\":\n",
    "        return \"subtraction_operation2\""
   ]
  },
  {
   "cell_type": "code",
   "execution_count": 9,
   "id": "3a8e02ab",
   "metadata": {},
   "outputs": [],
   "source": [
    "graph = StateGraph(AgentState)\n",
    "\n",
    "graph.add_node(\"add_node\", adder)\n",
    "graph.add_node(\"subtract_node\",subtractor)\n",
    "graph.add_node(\"router\", lambda state:state)\n",
    "\n",
    "graph.add_edge(START,\"router\")\n",
    "graph.add_conditional_edges(\n",
    "    \"router\",\n",
    "    decide_next,\n",
    "    {\n",
    "        \"addition_operation\": \"add_node\",\n",
    "        \"subtraction_operation\": \"subtract_node\"\n",
    "    }\n",
    ")\n",
    "graph.add_node(\"add_node2\", adder2)\n",
    "graph.add_node(\"subtract_node2\",subtractor2)\n",
    "graph.add_node(\"router2\", lambda state:state)\n",
    "graph.add_edge(\"add_node\",\"router2\")\n",
    "graph.add_edge(\"subtract_node\",\"router2\")\n",
    "graph.add_conditional_edges(\n",
    "    \"router2\",\n",
    "    decide_next2,\n",
    "    {\n",
    "        \"addition_operation2\": \"add_node2\",\n",
    "        \"subtraction_operation2\": \"subtract_node2\"\n",
    "    }\n",
    ")\n",
    "graph.add_edge(\"add_node2\",END)\n",
    "graph.add_edge(\"subtract_node2\",END)\n",
    "\n",
    "app = graph.compile()"
   ]
  },
  {
   "cell_type": "code",
   "execution_count": 10,
   "id": "6bc29a2e",
   "metadata": {},
   "outputs": [
    {
     "data": {
      "text/plain": [
       "{'number1': 10,\n",
       " 'number2': 15,\n",
       " 'operation': '+',\n",
       " 'number3': 10,\n",
       " 'number4': 5,\n",
       " 'operation2': '-',\n",
       " 'finalNumber': 25,\n",
       " 'finalNumber2': 5}"
      ]
     },
     "execution_count": 10,
     "metadata": {},
     "output_type": "execute_result"
    }
   ],
   "source": [
    "result = app.invoke({\"number1\":10,\"number2\":15,\"operation\":\"+\",\"number3\":10,\"number4\":5,\"operation2\":\"-\",\"finalNumber\":0,\"finalNumber2\":0})\n",
    "result"
   ]
  }
 ],
 "metadata": {
  "kernelspec": {
   "display_name": "Python (.venv-langgraph)",
   "language": "python",
   "name": "langgraph-env"
  },
  "language_info": {
   "codemirror_mode": {
    "name": "ipython",
    "version": 3
   },
   "file_extension": ".py",
   "mimetype": "text/x-python",
   "name": "python",
   "nbconvert_exporter": "python",
   "pygments_lexer": "ipython3",
   "version": "3.13.6"
  }
 },
 "nbformat": 4,
 "nbformat_minor": 5
}
