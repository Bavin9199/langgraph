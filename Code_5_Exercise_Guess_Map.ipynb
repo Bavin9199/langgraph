{
 "cells": [
  {
   "cell_type": "code",
   "execution_count": 87,
   "id": "83971eb7",
   "metadata": {},
   "outputs": [],
   "source": [
    "from typing import Dict, TypedDict, List\n",
    "import random\n",
    "from langgraph.graph import StateGraph, START, END"
   ]
  },
  {
   "cell_type": "code",
   "execution_count": 88,
   "id": "e4cc6b97",
   "metadata": {},
   "outputs": [],
   "source": [
    "class AgentState(TypedDict):\n",
    "    player_name: str\n",
    "    target: int\n",
    "    guesses: List[int]\n",
    "    attempts: 0\n",
    "    lower_bound: int\n",
    "    upper_bound: int"
   ]
  },
  {
   "cell_type": "code",
   "execution_count": 89,
   "id": "6df7b283",
   "metadata": {},
   "outputs": [],
   "source": [
    "def set_target(state: AgentState) -> AgentState:\n",
    "    state['target'] = random.randint(state[\"lower_bound\"],state[\"upper_bound\"])\n",
    "\n",
    "    return state\n",
    "\n",
    "def guess(state: AgentState) -> AgentState:\n",
    "    state[\"guesses\"].append(random.randint(state[\"lower_bound\"],state[\"upper_bound\"]))\n",
    "    state[\"attempts\"] += 1\n",
    "    \n",
    "    return state\n",
    "\n",
    "def hint(state: AgentState) -> AgentState:\n",
    "    if state[\"guesses\"][-1] != state[\"target\"] and state[\"attempts\"] < 8:\n",
    "        if state[\"guesses\"][-1] > state[\"target\"]:\n",
    "            print(\"bigger\")    \n",
    "        else:\n",
    "            print(\"smaller\")\n",
    "    else:\n",
    "        if state[\"guesses\"][-1] == state[\"target\"]:\n",
    "            print(\"correct!\")\n",
    "        else:\n",
    "            print(\"exceed the limit\")\n",
    "    \n",
    "    return state\n",
    "\n",
    "def should_continue(state: AgentState) -> AgentState:\n",
    "    if state[\"guesses\"][-1] != state[\"target\"] and state[\"attempts\"] < 8:\n",
    "        \n",
    "        return \"continue\"\n",
    "    else:\n",
    "        \n",
    "        return \"end\"\n",
    "        \n",
    "        \n",
    "    "
   ]
  },
  {
   "cell_type": "code",
   "execution_count": 90,
   "id": "2c4ac4f5",
   "metadata": {},
   "outputs": [],
   "source": [
    "graph = StateGraph(AgentState)\n",
    "\n",
    "graph.add_node(\"setup\", set_target)\n",
    "graph.add_node(\"guess\", guess)\n",
    "graph.add_node(\"hint_node\", hint)\n",
    "\n",
    "graph.add_edge(\"setup\", \"guess\")\n",
    "graph.add_edge(\"guess\", \"hint_node\")\n",
    "graph.add_conditional_edges(\n",
    "    \"hint_node\",\n",
    "    should_continue,\n",
    "    {\n",
    "        \"continue\": \"guess\",\n",
    "        \"end\": END\n",
    "    }\n",
    ")\n",
    "\n",
    "graph.set_entry_point(\"setup\")\n",
    "\n",
    "app = graph.compile()"
   ]
  },
  {
   "cell_type": "code",
   "execution_count": 91,
   "id": "d9a87570",
   "metadata": {},
   "outputs": [
    {
     "name": "stdout",
     "output_type": "stream",
     "text": [
      "bigger\n",
      "bigger\n",
      "smaller\n",
      "smaller\n",
      "smaller\n",
      "smaller\n",
      "bigger\n",
      "exceed the limit\n"
     ]
    },
    {
     "data": {
      "text/plain": [
       "{'player_name': 'Sam',\n",
       " 'target': 20,\n",
       " 'guesses': [32, 22, 10, 8, 6, 12, 37, 26],\n",
       " 'attempts': 8,\n",
       " 'lower_bound': 1,\n",
       " 'upper_bound': 50}"
      ]
     },
     "execution_count": 91,
     "metadata": {},
     "output_type": "execute_result"
    }
   ],
   "source": [
    "result = app.invoke({\"attempts\": 0, \"lower_bound\":1, \"upper_bound\": 50, \"player_name\": \"Sam\", \"guesses\": []})\n",
    "result"
   ]
  }
 ],
 "metadata": {
  "kernelspec": {
   "display_name": "Python (.venv-langgraph)",
   "language": "python",
   "name": "langgraph-env"
  },
  "language_info": {
   "codemirror_mode": {
    "name": "ipython",
    "version": 3
   },
   "file_extension": ".py",
   "mimetype": "text/x-python",
   "name": "python",
   "nbconvert_exporter": "python",
   "pygments_lexer": "ipython3",
   "version": "3.13.6"
  }
 },
 "nbformat": 4,
 "nbformat_minor": 5
}
