{
 "cells": [
  {
   "cell_type": "code",
   "execution_count": 1,
   "id": "db583bcd",
   "metadata": {},
   "outputs": [],
   "source": [
    "from typing import Dict, TypedDict, List\n",
    "from langgraph.graph import StateGraph"
   ]
  },
  {
   "cell_type": "code",
   "execution_count": 2,
   "id": "b19685b3",
   "metadata": {},
   "outputs": [],
   "source": [
    "class AgentState(TypedDict):\n",
    "       name : str\n",
    "       age : str\n",
    "       final : str\n"
   ]
  },
  {
   "cell_type": "code",
   "execution_count": 5,
   "id": "2a76b6b1",
   "metadata": {},
   "outputs": [],
   "source": [
    "def first_node(state:AgentState) -> AgentState:\n",
    "    \"\"\"This is the first node of sequence\"\"\"\n",
    "\n",
    "    state[\"final\"] = f\"Hi {state[\"name\"]}!\"\n",
    "    return state"
   ]
  },
  {
   "cell_type": "code",
   "execution_count": 7,
   "id": "3d0a54e5",
   "metadata": {},
   "outputs": [],
   "source": [
    "def second_node(state:AgentState) -> AgentState:\n",
    "    \"\"\"This is the first node of sequence\"\"\"\n",
    "\n",
    "    state[\"final\"] = state[\"final\"] + f\"You are {state[\"age\"]} years old!\"\n",
    "    return state"
   ]
  },
  {
   "cell_type": "code",
   "execution_count": 8,
   "id": "3c6ca5a9",
   "metadata": {},
   "outputs": [],
   "source": [
    "graph = StateGraph(AgentState)\n",
    "\n",
    "graph.add_node(\"first\",first_node)\n",
    "graph.add_node(\"second\",second_node)\n",
    "\n",
    "graph.set_entry_point(\"first\")\n",
    "graph.add_edge(\"first\",\"second\")\n",
    "graph.set_finish_point(\"second\")\n",
    "\n",
    "app = graph.compile()"
   ]
  },
  {
   "cell_type": "code",
   "execution_count": 9,
   "id": "22d13789",
   "metadata": {},
   "outputs": [],
   "source": [
    "result = app.invoke({\"name\":\"Bob\", \"age\": 19})"
   ]
  },
  {
   "cell_type": "code",
   "execution_count": 11,
   "id": "6694fb4b",
   "metadata": {},
   "outputs": [
    {
     "data": {
      "text/plain": [
       "'Hi Bob!You are 19 years old!'"
      ]
     },
     "execution_count": 11,
     "metadata": {},
     "output_type": "execute_result"
    }
   ],
   "source": [
    "result[\"final\"]"
   ]
  }
 ],
 "metadata": {
  "kernelspec": {
   "display_name": "Python (.venv-langgraph)",
   "language": "python",
   "name": "langgraph-env"
  },
  "language_info": {
   "codemirror_mode": {
    "name": "ipython",
    "version": 3
   },
   "file_extension": ".py",
   "mimetype": "text/x-python",
   "name": "python",
   "nbconvert_exporter": "python",
   "pygments_lexer": "ipython3",
   "version": "3.13.6"
  }
 },
 "nbformat": 4,
 "nbformat_minor": 5
}
