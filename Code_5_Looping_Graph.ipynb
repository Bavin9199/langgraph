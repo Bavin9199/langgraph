{
 "cells": [
  {
   "cell_type": "code",
   "execution_count": 52,
   "id": "d5cf8f5c",
   "metadata": {},
   "outputs": [],
   "source": [
    "from typing import Dict, TypedDict, List\n",
    "import random\n",
    "from langgraph.graph import StateGraph, START, END"
   ]
  },
  {
   "cell_type": "code",
   "execution_count": 53,
   "id": "e5d73ed0",
   "metadata": {},
   "outputs": [],
   "source": [
    "class AgentState(TypedDict):\n",
    "    name: str\n",
    "    number: List[int]\n",
    "    counter: int"
   ]
  },
  {
   "cell_type": "code",
   "execution_count": 54,
   "id": "230a50d9",
   "metadata": {},
   "outputs": [],
   "source": [
    "def greeting(state:AgentState) -> AgentState:\n",
    "    state[\"name\"] = f\"Hi there, {state[\"name\"]}\"\n",
    "    state[\"counter\"] = 0\n",
    "\n",
    "    return state"
   ]
  },
  {
   "cell_type": "code",
   "execution_count": 55,
   "id": "24e3c144",
   "metadata": {},
   "outputs": [],
   "source": [
    "def random_number(state: AgentState) -> AgentState:\n",
    "    state[\"number\"].append(random.randint(0,10))\n",
    "    state[\"counter\"] += 1\n",
    "\n",
    "    return state"
   ]
  },
  {
   "cell_type": "code",
   "execution_count": 56,
   "id": "4b00cdd3",
   "metadata": {},
   "outputs": [],
   "source": [
    "def should_continue(state: AgentState) -> AgentState:\n",
    "\n",
    "    if state[\"counter\"] < 5:\n",
    "        return \"loop\"\n",
    "    else:\n",
    "        return \"exit\""
   ]
  },
  {
   "cell_type": "code",
   "execution_count": 57,
   "id": "b66d8103",
   "metadata": {},
   "outputs": [],
   "source": [
    "graph = StateGraph(AgentState)\n",
    "\n",
    "graph.add_node(\"greeting_node\",greeting)\n",
    "graph.add_node(\"random_node\",random_number)\n",
    "\n",
    "graph.add_edge(\"greeting_node\", \"random_node\")\n",
    "graph.add_conditional_edges(\n",
    "    \"random_node\",\n",
    "    should_continue,\n",
    "    {\n",
    "        \"loop\": \"random_node\",\n",
    "        \"exit\": END\n",
    "    }\n",
    ")\n",
    "\n",
    "graph.set_entry_point(\"greeting_node\")\n",
    "\n",
    "app = graph.compile()"
   ]
  },
  {
   "cell_type": "code",
   "execution_count": 58,
   "id": "9c3b8eec",
   "metadata": {},
   "outputs": [],
   "source": [
    "result = app.invoke({\"name\":\"Vaibhav\", \"number\":[], \"counter\":-100})"
   ]
  },
  {
   "cell_type": "code",
   "execution_count": 59,
   "id": "e1618a5a",
   "metadata": {},
   "outputs": [
    {
     "data": {
      "text/plain": [
       "{'name': 'Hi there, Vaibhav', 'number': [9, 4, 8, 4, 0], 'counter': 5}"
      ]
     },
     "execution_count": 59,
     "metadata": {},
     "output_type": "execute_result"
    }
   ],
   "source": [
    "result"
   ]
  },
  {
   "cell_type": "code",
   "execution_count": null,
   "id": "32aadc25",
   "metadata": {},
   "outputs": [],
   "source": []
  }
 ],
 "metadata": {
  "kernelspec": {
   "display_name": "Python (.venv-langgraph)",
   "language": "python",
   "name": "langgraph-env"
  },
  "language_info": {
   "codemirror_mode": {
    "name": "ipython",
    "version": 3
   },
   "file_extension": ".py",
   "mimetype": "text/x-python",
   "name": "python",
   "nbconvert_exporter": "python",
   "pygments_lexer": "ipython3",
   "version": "3.13.6"
  }
 },
 "nbformat": 4,
 "nbformat_minor": 5
}
