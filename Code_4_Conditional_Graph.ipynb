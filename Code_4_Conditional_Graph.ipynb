{
 "cells": [
  {
   "cell_type": "code",
   "execution_count": 3,
   "id": "75949edd",
   "metadata": {},
   "outputs": [],
   "source": [
    "from typing import Dict, TypedDict, List\n",
    "from langgraph.graph import StateGraph, START, END"
   ]
  },
  {
   "cell_type": "code",
   "execution_count": 4,
   "id": "c2fb5423",
   "metadata": {},
   "outputs": [],
   "source": [
    "class AgentState(TypedDict):\n",
    "    number1 : int\n",
    "    operation : str\n",
    "    number2 : int\n",
    "    finalnumber : int"
   ]
  },
  {
   "cell_type": "code",
   "execution_count": 8,
   "id": "4ad13fb4",
   "metadata": {},
   "outputs": [],
   "source": [
    "def adder(state:AgentState) -> AgentState:\n",
    "    \"\"\"This is the node process add\"\"\"\n",
    "\n",
    "    state[\"finalnumber\"] = state[\"number1\"] + state[\"number2\"]\n",
    "\n",
    "    return state\n",
    "\n",
    "def subtractor(state:AgentState) -> AgentState:\n",
    "    \"\"\"This is the node process minus\"\"\"\n",
    "\n",
    "    state[\"finalnumber\"] = state[\"number1\"] - state[\"number2\"]\n",
    "\n",
    "    return state\n",
    "\n",
    "def decide_next_node(state:AgentState) -> AgentState:\n",
    "    \"\"\"This node will select the next node of the graph\"\"\"\n",
    "\n",
    "    if state[\"operation\"] == \"+\":\n",
    "        return \"additional_operation\"\n",
    "    elif state[\"operation\"] == \"-\":\n",
    "        return \"substraction operation\""
   ]
  },
  {
   "cell_type": "code",
   "execution_count": 13,
   "id": "955550da",
   "metadata": {},
   "outputs": [],
   "source": [
    "graph = StateGraph(AgentState)\n",
    "\n",
    "graph.add_node(\"adder_node\",adder)\n",
    "graph.add_node(\"subtractor_node\",subtractor)\n",
    "graph.add_node(\"router_node\",lambda state:state) #passthrough function, only do comparison instead of assignment\n",
    "\n",
    "graph.add_edge(START, \"router_node\")\n",
    "graph.add_conditional_edges(\n",
    "    \"router_node\",\n",
    "    decide_next_node,\n",
    "    {\n",
    "        \"additional_operation\": \"adder_node\",\n",
    "        \"subtraction_operation\": \"subtractor_node\"\n",
    "    }\n",
    ")\n",
    "\n",
    "graph.add_edge(\"adder_node\", END)\n",
    "graph.add_edge(\"subtractor_node\", END)\n",
    "\n",
    "app = graph.compile()\n"
   ]
  },
  {
   "cell_type": "code",
   "execution_count": 15,
   "id": "bf45f08a",
   "metadata": {},
   "outputs": [
    {
     "data": {
      "text/plain": [
       "{'number1': 10, 'operation': '+', 'number2': 5, 'finalnumber': 15}"
      ]
     },
     "execution_count": 15,
     "metadata": {},
     "output_type": "execute_result"
    }
   ],
   "source": [
    "result = app.invoke({\"number1\":10,\"number2\":5,\"operation\":\"+\"})\n",
    "result"
   ]
  }
 ],
 "metadata": {
  "kernelspec": {
   "display_name": "Python (.venv-langgraph)",
   "language": "python",
   "name": "langgraph-env"
  },
  "language_info": {
   "codemirror_mode": {
    "name": "ipython",
    "version": 3
   },
   "file_extension": ".py",
   "mimetype": "text/x-python",
   "name": "python",
   "nbconvert_exporter": "python",
   "pygments_lexer": "ipython3",
   "version": "3.13.6"
  }
 },
 "nbformat": 4,
 "nbformat_minor": 5
}
