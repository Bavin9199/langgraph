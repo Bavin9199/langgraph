{
 "cells": [
  {
   "cell_type": "code",
   "execution_count": 1,
   "id": "c65a8cff",
   "metadata": {},
   "outputs": [],
   "source": [
    "from typing import Dict, TypedDict\n",
    "from langgraph.graph import StateGraph"
   ]
  },
  {
   "cell_type": "code",
   "execution_count": 4,
   "id": "bda90deb",
   "metadata": {},
   "outputs": [],
   "source": [
    "class Name(TypedDict):\n",
    "    name : str"
   ]
  },
  {
   "cell_type": "code",
   "execution_count": 5,
   "id": "6af2c8b4",
   "metadata": {},
   "outputs": [],
   "source": [
    "def courage(state: Name) -> Name:\n",
    "    state[\"name\"] = state[\"name\"] + \", you're doing an amazing job learning LangGraph!\"\n",
    "\n",
    "    return state"
   ]
  },
  {
   "cell_type": "code",
   "execution_count": 7,
   "id": "b1dd732d",
   "metadata": {},
   "outputs": [],
   "source": [
    "graph = StateGraph(Name)\n",
    "\n",
    "graph.add_node(\"courage\",courage)\n",
    "\n",
    "graph.set_entry_point(\"courage\")\n",
    "graph.set_finish_point(\"courage\")\n",
    "\n",
    "app = graph.compile()"
   ]
  },
  {
   "cell_type": "code",
   "execution_count": 9,
   "id": "548f0109",
   "metadata": {},
   "outputs": [],
   "source": [
    "result = app.invoke({\"name\":\"Bob\"})"
   ]
  },
  {
   "cell_type": "code",
   "execution_count": 12,
   "id": "bb29f7c8",
   "metadata": {},
   "outputs": [
    {
     "data": {
      "text/plain": [
       "\"Bob, you're doing an amazing job learning LangGraph!\""
      ]
     },
     "execution_count": 12,
     "metadata": {},
     "output_type": "execute_result"
    }
   ],
   "source": [
    "result[\"name\"]"
   ]
  },
  {
   "cell_type": "code",
   "execution_count": null,
   "id": "cb9b4653",
   "metadata": {},
   "outputs": [],
   "source": []
  }
 ],
 "metadata": {
  "kernelspec": {
   "display_name": "Python (.venv-langgraph)",
   "language": "python",
   "name": "langgraph-env"
  },
  "language_info": {
   "codemirror_mode": {
    "name": "ipython",
    "version": 3
   },
   "file_extension": ".py",
   "mimetype": "text/x-python",
   "name": "python",
   "nbconvert_exporter": "python",
   "pygments_lexer": "ipython3",
   "version": "3.13.6"
  }
 },
 "nbformat": 4,
 "nbformat_minor": 5
}
