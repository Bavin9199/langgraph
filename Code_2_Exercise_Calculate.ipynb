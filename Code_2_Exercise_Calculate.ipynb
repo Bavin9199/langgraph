{
 "cells": [
  {
   "cell_type": "code",
   "execution_count": 1,
   "id": "d050b103",
   "metadata": {},
   "outputs": [],
   "source": [
    "from typing import Dict, TypedDict, List\n",
    "from langgraph.graph import StateGraph"
   ]
  },
  {
   "cell_type": "code",
   "execution_count": 7,
   "id": "c0962d19",
   "metadata": {},
   "outputs": [],
   "source": [
    "class AgentState(TypedDict):\n",
    "    values : list[int]\n",
    "    name : str\n",
    "    operation : str\n",
    "    result : str"
   ]
  },
  {
   "cell_type": "code",
   "execution_count": 8,
   "id": "16dbfa78",
   "metadata": {},
   "outputs": [],
   "source": [
    "def calculate(state:AgentState) -> AgentState:\n",
    "    \"\"\"This is the function of calculation\"\"\"\n",
    "    if state[\"operation\"] == \"+\" :\n",
    "        cal = sum(state[\"values\"])\n",
    "    state[\"result\"] = f\"Hi {state[\"name\"]}, your answer is {cal}\"\n",
    "\n",
    "    return state"
   ]
  },
  {
   "cell_type": "code",
   "execution_count": 9,
   "id": "6c81485b",
   "metadata": {},
   "outputs": [],
   "source": [
    "graph = StateGraph(AgentState)\n",
    "\n",
    "graph.add_node(\"cal\",calculate)\n",
    "\n",
    "graph.set_entry_point(\"cal\")\n",
    "graph.set_finish_point(\"cal\")\n",
    "\n",
    "app = graph.compile()"
   ]
  },
  {
   "cell_type": "code",
   "execution_count": 10,
   "id": "6bed0495",
   "metadata": {},
   "outputs": [],
   "source": [
    "result = app.invoke({\"values\": [1,2,3], \"name\": \"James\", \"operation\": \"+\"})"
   ]
  },
  {
   "cell_type": "code",
   "execution_count": 12,
   "id": "9d2d82db",
   "metadata": {},
   "outputs": [
    {
     "data": {
      "text/plain": [
       "'Hi James, your answer is 6'"
      ]
     },
     "execution_count": 12,
     "metadata": {},
     "output_type": "execute_result"
    }
   ],
   "source": [
    "result[\"result\"]"
   ]
  },
  {
   "cell_type": "code",
   "execution_count": null,
   "id": "6e5caa69",
   "metadata": {},
   "outputs": [],
   "source": []
  }
 ],
 "metadata": {
  "kernelspec": {
   "display_name": "Python (.venv-langgraph)",
   "language": "python",
   "name": "langgraph-env"
  },
  "language_info": {
   "codemirror_mode": {
    "name": "ipython",
    "version": 3
   },
   "file_extension": ".py",
   "mimetype": "text/x-python",
   "name": "python",
   "nbconvert_exporter": "python",
   "pygments_lexer": "ipython3",
   "version": "3.13.6"
  }
 },
 "nbformat": 4,
 "nbformat_minor": 5
}
